{
 "cells": [
  {
   "cell_type": "code",
   "id": "initial_id",
   "metadata": {
    "collapsed": true,
    "ExecuteTime": {
     "end_time": "2025-01-06T20:52:32.855922Z",
     "start_time": "2025-01-06T20:52:32.852113Z"
    }
   },
   "source": [
    "#imports\n",
    "import pulp as p\n",
    "import numpy as np\n",
    "import matplotlib as plt"
   ],
   "outputs": [],
   "execution_count": 74
  },
  {
   "metadata": {
    "ExecuteTime": {
     "end_time": "2025-01-06T20:40:26.421754Z",
     "start_time": "2025-01-06T20:40:26.416791Z"
    }
   },
   "cell_type": "code",
   "source": [
    "#fixed values\n",
    "\n",
    "#hier input fenster bauen, sodass es benutzerfreundlicher wird\n",
    "\n",
    "# Muss aus Strompreis/COP berechnet werden\n",
    "c = [\n",
    "    0.0556, 0.0522, 0.0489, 0.0458, 0.0429, 0.0400, \n",
    "    0.0458, 0.0565, 0.0682, 0.0833, 0.0829, 0.0825, \n",
    "    0.0780, 0.0698, 0.0622, 0.0587, 0.0659, 0.0810, \n",
    "    0.0854, 0.0786, 0.0698, 0.0622, 0.0565, 0.0532\n",
    "]\n",
    "\n",
    "T = len(c)\n",
    "p_max = 5\n",
    "s_max = 7\n",
    "s_laden = 3\n",
    "s_entladen = 3\n",
    "d = 2.8\n",
    "B_start = 0"
   ],
   "id": "2784bc809a01e7a",
   "outputs": [],
   "execution_count": 62
  },
  {
   "metadata": {},
   "cell_type": "code",
   "outputs": [],
   "execution_count": null,
   "source": "#Hier Grafik und Herleitung für: Von Wetter und Wärmebedarf zu COP, von COP und Strompreis zu C  ",
   "id": "34b1d4528971d492"
  },
  {
   "metadata": {},
   "cell_type": "code",
   "outputs": [],
   "execution_count": null,
   "source": "#Hier grafische Erklärung für die Nebenbedingungen",
   "id": "a94938c497f6ed8"
  },
  {
   "metadata": {},
   "cell_type": "markdown",
   "source": [
    "# Zielfunktion und Nebenbedingungen für das Optimierungsproblem\n",
    "\n",
    "## Zielfunktion\n",
    "Minimierung der Gesamtkosten:\n",
    "- \\( P_t \\): Wärmeerzeugung der Wärmepumpe in Stunde \\( t \\)\n",
    "- \\( c_t \\): Kosteneffizienz (EUR pro kW Wärme) in Stunde \\( t \\)\n",
    "- Ziel: Minimierung der Gesamtkosten über alle Stunden\n",
    "\n",
    "\\[\n",
    "\\min \\sum_{t=0}^{23} c_t \\cdot P_t\n",
    "\\]\n",
    "\n",
    "---\n",
    "\n",
    "## Nebenbedingungen\n",
    "\n",
    "1. **Grenzen der Wärmeerzeugung**\n",
    "   - Die Wärmeerzeugung \\( P_t \\) ist durch die maximale Leistung der Wärmepumpe beschränkt:\n",
    "   \\[\n",
    "   0 \\leq P_t \\leq P_{\\text{max}}\n",
    "   \\]\n",
    "\n",
    "2. **Grenzen für das Laden und Entladen des Speichers**\n",
    "   - Einspeicherung (\\( x^{\\text{in}}_t \\)) und Ausspeicherung (\\( x^{\\text{out}}_t \\)) des Speichers sind beschränkt:\n",
    "   \\[\n",
    "   0 \\leq x^{\\text{in}}_t \\leq X_{\\text{in,max}}, \\quad 0 \\leq x^{\\text{out}}_t \\leq X_{\\text{out,max}}\n",
    "   \\]\n",
    "\n",
    "3. **Grenzen für den Speicherfüllstand**\n",
    "   - Der Speicherfüllstand (\\( B_t \\)) ist durch die Speicherkapazität begrenzt:\n",
    "   \\[\n",
    "   0 \\leq B_t \\leq B_{\\text{max}}\n",
    "   \\]\n",
    "\n",
    "4. **Wärmebilanz**\n",
    "   - Die Wärmenachfrage \\( d \\) muss durch die Wärmeerzeugung \\( P_t \\), Einspeicherung (\\( x^{\\text{in}}_t \\)), und Ausspeicherung (\\( x^{\\text{out}}_t \\)) gedeckt werden:\n",
    "   \\[\n",
    "   P_t + x^{\\text{out}}_t = d + x^{\\text{in}}_t, \\quad \\forall t \\in \\{0, \\dots, 23\\}\n",
    "   \\]\n",
    "\n",
    "5. **Dynamik des Speicherfüllstands**\n",
    "   - Der Speicherfüllstand \\( B_t \\) entwickelt sich über die Zeit durch Einspeicherung (\\( x^{\\text{in}}_t \\)) und Ausspeicherung (\\( x^{\\text{out}}_t \\)):\n",
    "   \\[\n",
    "   B_0 = B_{\\text{start}} + x^{\\text{in}}_0 - x^{\\text{out}}_0\n",
    "   \\]\n",
    "   \\[\n",
    "   B_t = B_{t-1} + x^{\\text{in}}_t - x^{\\text{out}}_t, \\quad \\forall t \\in \\{1, \\dots, 23\\}\n",
    "   \\]\n",
    "\n",
    "---\n",
    "\n",
    "## Notation\n",
    "- \\( P_t \\): Wärmeerzeugung (kW)\n",
    "- \\( x^{\\text{in}}_t \\): Einspeicherung (kW)\n",
    "- \\( x^{\\text{out}}_t \\): Ausspeicherung (kW)\n",
    "- \\( B_t \\): Speicherfüllstand (kWh)\n",
    "- \\( c_t \\): Kosteneffizienz (EUR/kW)\n",
    "- \\( d \\): Wärmenachfrage (kW)\n",
    "- \\( P_{\\text{max}} \\): Maximale Wärmeerzeugungskapazität (kW)\n",
    "- \\( X_{\\text{in,max}}, X_{\\text{out,max}} \\): Maximale Lade- und Entladeleistung (kW)\n",
    "- \\( B_{\\text{max}} \\): Maximale Speicherkapazität (kWh)\n",
    "- \\( B_{\\text{start}} \\): Anfangsfüllstand des Speichers (kWh)\n"
   ],
   "id": "eca23595f02e9fe6"
  },
  {
   "metadata": {
    "ExecuteTime": {
     "end_time": "2025-01-06T20:40:35.070724Z",
     "start_time": "2025-01-06T20:40:35.066359Z"
    }
   },
   "cell_type": "code",
   "source": "model = p.LpProblem(\"problem\", p.LpMinimize)",
   "id": "378cd6e04e8ebb2c",
   "outputs": [],
   "execution_count": 64
  },
  {
   "metadata": {
    "ExecuteTime": {
     "end_time": "2025-01-06T20:40:35.841609Z",
     "start_time": "2025-01-06T20:40:35.835685Z"
    }
   },
   "cell_type": "code",
   "source": [
    "#decision variables\n",
    "P = [p.LpVariable(f\"p_{t}\", lowBound=0, upBound=p_max) for t in range(T)]\n",
    "B = [p.LpVariable(f\"B_{t}\", lowBound=0, upBound=s_max) for t in range(T)]\n",
    "x_in = [p.LpVariable(f\"x_in_{t}\", lowBound=0, upBound=s_laden) for t in range(T)]\n",
    "x_out = [p.LpVariable(f\"x_out_{t}\", lowBound=0, upBound=s_entladen) for t in range(T)]"
   ],
   "id": "996ff2eb2fb33ed8",
   "outputs": [],
   "execution_count": 65
  },
  {
   "metadata": {
    "ExecuteTime": {
     "end_time": "2025-01-06T20:40:38.932670Z",
     "start_time": "2025-01-06T20:40:38.929714Z"
    }
   },
   "cell_type": "code",
   "source": [
    "#objective function\n",
    "model += p.lpSum(c[t] * P[t] for t in range(T))"
   ],
   "id": "4d8cbce2897863de",
   "outputs": [],
   "execution_count": 66
  },
  {
   "metadata": {
    "ExecuteTime": {
     "end_time": "2025-01-06T20:40:41.901840Z",
     "start_time": "2025-01-06T20:40:41.895615Z"
    }
   },
   "cell_type": "code",
   "source": [
    "#constraints\n",
    "#Grenzen für den Füllstand des Pufferspeichers\n",
    "for t in range(T):\n",
    "    model += B[t] >= 0  # Untergrenze Füllstand\n",
    "    model += B[t] <= 7  # Obergrenze Füllstand\n",
    "\n",
    "#Wärmebilanz\n",
    "for t in range(T):\n",
    "    model += P[t] + x_out[t] == d + x_in[t]\n",
    "    \n",
    "#Speicherzustand Dynamik\n",
    "model += B[0] == B_start * x_in[0] - x_out[0]  # Startfüllstand\n",
    "\n",
    "for t in range(1, T):\n",
    "    model += B[t] == B[t-1] + x_in[t] - x_out[t]  # Dynamik\n",
    "#noch n ergänzen, also Wärmeverlustquote\n"
   ],
   "id": "bf0c76d5af565a8f",
   "outputs": [],
   "execution_count": 67
  },
  {
   "metadata": {
    "ExecuteTime": {
     "end_time": "2025-01-06T20:40:43.843801Z",
     "start_time": "2025-01-06T20:40:43.789863Z"
    }
   },
   "cell_type": "code",
   "source": [
    "status = model.solve() \n",
    "print(p.LpStatus[status])\n"
   ],
   "id": "5b0fc16712b13ce5",
   "outputs": [
    {
     "name": "stdout",
     "output_type": "stream",
     "text": [
      "Welcome to the CBC MILP Solver \n",
      "Version: 2.10.3 \n",
      "Build Date: Dec 15 2019 \n",
      "\n",
      "command line - /Users/juliandomnik/PycharmProjects/heatpump-operation-optimization/.venv/lib/python3.12/site-packages/pulp/solverdir/cbc/osx/64/cbc /var/folders/m4/qcxwdmxd5b94sx7ctbs447dc0000gn/T/b6060a93dcb14a98b1f90c284da4fd25-pulp.mps -timeMode elapsed -branch -printingOptions all -solution /var/folders/m4/qcxwdmxd5b94sx7ctbs447dc0000gn/T/b6060a93dcb14a98b1f90c284da4fd25-pulp.sol (default strategy 1)\n",
      "At line 2 NAME          MODEL\n",
      "At line 3 ROWS\n",
      "At line 101 COLUMNS\n",
      "At line 340 RHS\n",
      "At line 437 BOUNDS\n",
      "At line 534 ENDATA\n",
      "Problem MODEL has 96 rows, 96 columns and 214 elements\n",
      "Coin0008I MODEL read with 0 errors\n",
      "Option for timeMode changed from cpu to elapsed\n",
      "Presolve 46 (-50) rows, 91 (-5) columns and 159 (-55) elements\n",
      "Perturbing problem by 0.001% of 0.0854 - largest nonzero change 9.8850144e-07 ( 0.0022025455%) - largest zero change 9.8644537e-07\n",
      "0  Obj 0.15568 Primal inf 64.399977 (23)\n",
      "42  Obj 0.15607072 Primal inf 469.89998 (21)\n",
      "66  Obj 3.856146\n",
      "Optimal - objective value 3.85604\n",
      "After Postsolve, objective 3.85604, infeasibilities - dual 0 (0), primal 0 (0)\n",
      "Optimal objective 3.85604 - 66 iterations time 0.002, Presolve 0.00\n",
      "Option for printingOptions changed from normal to all\n",
      "Total time (CPU seconds):       0.00   (Wallclock seconds):       0.01\n",
      "\n",
      "Optimal\n"
     ]
    }
   ],
   "execution_count": 68
  },
  {
   "metadata": {
    "ExecuteTime": {
     "end_time": "2025-01-06T20:40:45.548594Z",
     "start_time": "2025-01-06T20:40:45.544481Z"
    }
   },
   "cell_type": "code",
   "source": [
    "#optimal values\n",
    "\n",
    "print(\"Optimale Ergebnisse:\")\n",
    "for t in range(24):\n",
    "    print(\n",
    "        f\"Stunde {t}: \"\n",
    "        f\"P[t] = {P[t].varValue:.3f}, \"\n",
    "        f\"x_in[t] = {x_in[t].varValue:.3f}, \"\n",
    "        f\"x_out[t] = {x_out[t].varValue:.3f}, \"\n",
    "        f\"B[t] = {B[t].varValue:.3f}\"\n",
    "    )\n"
   ],
   "id": "751b1b4b03546012",
   "outputs": [
    {
     "name": "stdout",
     "output_type": "stream",
     "text": [
      "Optimale Ergebnisse:\n",
      "Stunde 0: P[t] = 2.800, x_in[t] = 0.000, x_out[t] = 0.000, B[t] = 0.000\n",
      "Stunde 1: P[t] = 2.800, x_in[t] = 0.000, x_out[t] = 0.000, B[t] = 0.000\n",
      "Stunde 2: P[t] = 2.800, x_in[t] = 0.000, x_out[t] = 0.000, B[t] = 0.000\n",
      "Stunde 3: P[t] = 3.200, x_in[t] = 0.400, x_out[t] = 0.000, B[t] = 0.400\n",
      "Stunde 4: P[t] = 5.000, x_in[t] = 2.200, x_out[t] = 0.000, B[t] = 2.600\n",
      "Stunde 5: P[t] = 5.000, x_in[t] = 2.200, x_out[t] = 0.000, B[t] = 4.800\n",
      "Stunde 6: P[t] = 5.000, x_in[t] = 2.200, x_out[t] = 0.000, B[t] = 7.000\n",
      "Stunde 7: P[t] = 2.800, x_in[t] = 0.000, x_out[t] = 0.000, B[t] = 7.000\n",
      "Stunde 8: P[t] = 2.800, x_in[t] = 0.000, x_out[t] = 0.000, B[t] = 7.000\n",
      "Stunde 9: P[t] = 0.000, x_in[t] = 0.000, x_out[t] = 2.800, B[t] = 4.200\n",
      "Stunde 10: P[t] = 0.000, x_in[t] = 0.000, x_out[t] = 2.800, B[t] = 1.400\n",
      "Stunde 11: P[t] = 1.400, x_in[t] = 0.000, x_out[t] = 1.400, B[t] = 0.000\n",
      "Stunde 12: P[t] = 2.800, x_in[t] = 0.000, x_out[t] = 0.000, B[t] = 0.000\n",
      "Stunde 13: P[t] = 3.200, x_in[t] = 0.400, x_out[t] = 0.000, B[t] = 0.400\n",
      "Stunde 14: P[t] = 5.000, x_in[t] = 2.200, x_out[t] = 0.000, B[t] = 2.600\n",
      "Stunde 15: P[t] = 5.000, x_in[t] = 2.200, x_out[t] = 0.000, B[t] = 4.800\n",
      "Stunde 16: P[t] = 5.000, x_in[t] = 2.200, x_out[t] = 0.000, B[t] = 7.000\n",
      "Stunde 17: P[t] = 0.000, x_in[t] = 0.000, x_out[t] = 2.800, B[t] = 4.200\n",
      "Stunde 18: P[t] = 0.000, x_in[t] = 0.000, x_out[t] = 2.800, B[t] = 1.400\n",
      "Stunde 19: P[t] = 1.400, x_in[t] = 0.000, x_out[t] = 1.400, B[t] = 0.000\n",
      "Stunde 20: P[t] = 2.800, x_in[t] = 0.000, x_out[t] = 0.000, B[t] = 0.000\n",
      "Stunde 21: P[t] = 2.800, x_in[t] = 0.000, x_out[t] = 0.000, B[t] = 0.000\n",
      "Stunde 22: P[t] = 2.800, x_in[t] = 0.000, x_out[t] = 0.000, B[t] = 0.000\n",
      "Stunde 23: P[t] = 2.800, x_in[t] = 0.000, x_out[t] = 0.000, B[t] = 0.000\n"
     ]
    }
   ],
   "execution_count": 69
  },
  {
   "metadata": {
    "ExecuteTime": {
     "end_time": "2025-01-06T20:40:46.697478Z",
     "start_time": "2025-01-06T20:40:46.694486Z"
    }
   },
   "cell_type": "code",
   "source": "#Hier Grafik für optimalen Betrieb (plt)",
   "id": "9aaaf3be2de137a9",
   "outputs": [],
   "execution_count": 70
  },
  {
   "metadata": {
    "ExecuteTime": {
     "end_time": "2025-01-06T20:40:51.734249Z",
     "start_time": "2025-01-06T20:40:51.730027Z"
    }
   },
   "cell_type": "code",
   "source": [
    "#Mini-Exkurs Lineare Algebra / Veranschaulichung des Problems \n",
    "print(\"Modelldimensionen: \" + str(len(model.constraints)) + \" x \"+ str(len(model.variables())))\n",
    "print(\"------------------\")\n",
    "print(\"Anzahl der Constraints (m):\", len(model.constraints))\n",
    "print(\"Anzahl der Variablen (n):\", len(model.variables()))\n"
   ],
   "id": "19f5031495fb1248",
   "outputs": [
    {
     "name": "stdout",
     "output_type": "stream",
     "text": [
      "Modelldimensionen: 96 x 96\n",
      "------------------\n",
      "Anzahl der Constraints (m): 96\n",
      "Anzahl der Variablen (n): 96\n"
     ]
    }
   ],
   "execution_count": 72
  },
  {
   "metadata": {},
   "cell_type": "code",
   "outputs": [],
   "execution_count": null,
   "source": [
    "#Amortisationsdauer\n",
    "\n"
   ],
   "id": "d03bd7da05578ecf"
  }
 ],
 "metadata": {
  "kernelspec": {
   "display_name": "Python 3",
   "language": "python",
   "name": "python3"
  },
  "language_info": {
   "codemirror_mode": {
    "name": "ipython",
    "version": 2
   },
   "file_extension": ".py",
   "mimetype": "text/x-python",
   "name": "python",
   "nbconvert_exporter": "python",
   "pygments_lexer": "ipython2",
   "version": "2.7.6"
  }
 },
 "nbformat": 4,
 "nbformat_minor": 5
}
