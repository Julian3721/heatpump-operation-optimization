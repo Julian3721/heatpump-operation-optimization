{
 "cells": [
  {
   "cell_type": "code",
   "id": "initial_id",
   "metadata": {
    "collapsed": true,
    "ExecuteTime": {
     "end_time": "2025-01-07T15:28:39.021780Z",
     "start_time": "2025-01-07T15:28:39.005295Z"
    }
   },
   "source": [
    "#imports\n",
    "import pulp as p\n",
    "from pulp import value\n",
    "import numpy as np\n",
    "import matplotlib as plt"
   ],
   "outputs": [],
   "execution_count": 206
  },
  {
   "metadata": {
    "ExecuteTime": {
     "end_time": "2025-01-07T16:00:17.536420Z",
     "start_time": "2025-01-07T16:00:17.525481Z"
    }
   },
   "cell_type": "code",
   "source": [
    "#fixed values\n",
    "#HIER muss noch alles auf englisch beschrieben werden, variablen auch elleganter umgenannt werden\n",
    "#ERINNERUNG, wenn Werte BSPW. im 15min Takt vorliegen müssen auch die Leistungswerte der Wärmepumpe und Pufferspeicher durch 4 geteilt werden (soll alles automatisiert werden)\n",
    "\n",
    "\n",
    "#Strompreise müssten hier eigentlich auch durch 4 geteilt werden\n",
    "strompreise = [\n",
    "    0.2909, 0.2981, 0.3053, 0.3124, 0.3194, 0.3263, 0.3331, 0.3396, 0.3460, 0.3521,\n",
    "    0.3579, 0.3635, 0.3687, 0.3736, 0.3781, 0.3822, 0.3860, 0.3893, 0.3922, 0.3947,\n",
    "    0.3967, 0.3982, 0.3993, 0.3999, 0.4000, 0.3996, 0.3988, 0.3975, 0.3957, 0.3935,\n",
    "    0.3908, 0.3877, 0.3842, 0.3802, 0.3759, 0.3712, 0.3661, 0.3607, 0.3550, 0.3491,\n",
    "    0.3428, 0.3364, 0.3297, 0.3229, 0.3159, 0.3089, 0.3017, 0.2945, 0.2873, 0.2801,\n",
    "    0.2730, 0.2659, 0.2589, 0.2521, 0.2454, 0.2390, 0.2328, 0.2268, 0.2211, 0.2157,\n",
    "    0.2106, 0.2059, 0.2016, 0.1977, 0.1941, 0.1910, 0.1883, 0.1861, 0.1843, 0.1830,\n",
    "    0.1822, 0.1818, 0.1820, 0.1825, 0.1836, 0.1852, 0.1872, 0.1896, 0.1925, 0.1958,\n",
    "    0.1996, 0.2037, 0.2082, 0.2131, 0.2184, 0.2239, 0.2297, 0.2358, 0.2422, 0.2487,\n",
    "    0.2555, 0.2624, 0.2694, 0.2765, 0.2837, 0.2909\n",
    "]\n",
    "\n",
    "temperatur = [\n",
    "    7.4, 7.4, 7.3, 7.3, 7.2, 7.2, 7.1, 7.1, 7.0, 6.9, 6.9, 6.8, 6.8, 6.7, 6.6, 6.6,\n",
    "    6.5, 6.5, 6.4, 6.3, 6.3, 6.2, 6.1, 6.1, 11.5, 11.7, 12.0, 12.2, 12.4, 12.6, 12.8,\n",
    "    13.0, 13.3, 13.4, 13.6, 13.8, 14.0, 14.1, 14.3, 14.4, 14.5, 14.6, 14.7, 14.8, 14.9,\n",
    "    14.9, 15.0, 14.9, 14.9, 14.8, 14.7, 14.6, 14.5, 14.4, 14.3, 14.1, 14.0, 13.8, 13.6,\n",
    "    13.4, 13.3, 13.0, 12.8, 12.6, 12.4, 12.2, 12.0, 11.7, 11.5, 6.0, 6.1, 6.1, 6.2,\n",
    "    6.3, 6.3, 6.4, 6.5, 6.5, 6.6, 6.6, 6.7, 6.8, 6.8, 6.9, 6.9, 7.0, 7.1, 7.1, 7.2,\n",
    "    7.2, 7.3, 7.3, 7.4, 7.2, 7.0, 6.8\n",
    "]\n",
    "\n",
    "anschaffungskosten_speicher = 6000\n",
    "anschaffunskosten_pumpe = 7800\n",
    "jahresrechnung_heizkosten_vor_pumpe = 2370\n",
    "\n",
    "T_innen = 20  # Ziel-Innentemperatur in °C\n",
    "Wohnfläche = 150  # Wohnfläche in m²\n",
    "Wärmebedarf_pro_m2 = 60  # Wärmebedarf in W/m² bei normaler Dämmung\n",
    "T_norm_aussen = -12  # Normaußentemperatur (zur Normierung des Temperaturunterschieds) in °C\n",
    "heizungstemperatur=35 #Fußbodenheizung optimalerweise\n",
    "wirkungsgrad=0.8\n",
    "cop_vorfaktor=0.2\n",
    "Delta_T_max = T_innen - T_norm_aussen\n",
    "\n",
    "# Maximaler Temperaturunterschied\n",
    "Delta_T_max = T_innen - T_norm_aussen\n",
    "\n",
    "# Heizlastberechnung für jede Stunde\n",
    "heizlast = [(Wärmebedarf_pro_m2 * Wohnfläche * (T_innen - T_außen) / Delta_T_max) for T_außen in temperatur]\n",
    "\n",
    "# Stundenweise Heizlast in kW umrechnen (von W zu kW)\n",
    "heizlast_kW = [round(last / 1000, 2) for last in heizlast]\n",
    "\n",
    "# Berechnung der COP-Werte\n",
    "t_warm = 273.15 + heizungstemperatur\n",
    "t_kalt = [x + 273.15 for x in temperatur]\n",
    "cop_werte = [cop_vorfaktor * (t_warm / (t_warm - kalt)) for kalt in t_kalt]\n",
    "\n",
    "# Kosten pro kW(h) Wärme berechnen, in diesem Fall kWh, da sich alle Werte auf Stunden beziehen\n",
    "kosten_pro_kW = [strompreis / cop for cop, strompreis in zip(cop_werte, strompreise)]\n",
    "\n",
    "print(kosten_pro_kW)\n",
    "\n",
    "\n",
    "\n",
    "# Muss aus COP/Strompeis gibt mir wieviel Euro es zu Zeit t kostet um einen kW Wärme zu erzeugen\n",
    "c = kosten_pro_kW\n",
    "\n",
    "T = len(c)\n",
    "p_max = 5\n",
    "s_max = 22\n",
    "s_laden = 4\n",
    "s_entladen = 2\n",
    "d = 15/24 #Heizbedarf in kW pro stunde\n",
    "b_start = 0"
   ],
   "id": "2784bc809a01e7a",
   "outputs": [
    {
     "name": "stdout",
     "output_type": "stream",
     "text": [
      "[0.13027486613662187, 0.13349926983611887, 0.13721904916436795, 0.14041018984260906, 0.14407463897452547, 0.14718708421223434, 0.15079490507869533, 0.15373746552003884, 0.15719617069608957, 0.16053886094434544, 0.16318335226350816, 0.1663264643842284, 0.16870582508518575, 0.17155411325653097, 0.17423397695927295, 0.176123316566607, 0.1785007301638812, 0.18002677267564496, 0.18200421872464723, 0.18380480285575201, 0.1847361674509167, 0.18608080480285583, 0.18724273892584764, 0.18752409540808032, 0.15252312185623887, 0.1510738276813241, 0.1488301152036346, 0.1470550056790525, 0.14510498134025654, 0.1430212558818756, 0.14077170209313636, 0.13839688463410676, 0.1352773000162258, 0.13325198766834348, 0.13052506895992197, 0.12768846341067655, 0.1247460652279734, 0.1223207853318188, 0.11923576180431601, 0.1166876521174754, 0.11402563686516307, 0.11135096543890949, 0.10859824760668511, 0.10583449618692191, 0.10302758396884647, 0.10074460490021105, 0.09790686354048353, 0.09604819081616106, 0.09369998377413608, 0.09180626318351448, 0.08992211585266921, 0.08801492779490498, 0.08611796203147819, 0.08426513061820551, 0.08242381956839198, 0.08104981340256359, 0.07932500405646602, 0.07801655038130777, 0.0767733246795391, 0.07559824760668514, 0.0741525231218562, 0.07349991887067986, 0.07261917897128017, 0.07185591432743786, 0.07117734869381802, 0.0706603926659095, 0.07027259451565795, 0.07035745578452055, 0.07027502839526205, 0.0861106603926659, 0.08543858510465675, 0.08525101411650163, 0.08504948888528317, 0.08498701930877817, 0.08549926983611875, 0.08594385851046575, 0.08656822975823462, 0.08767807885769917, 0.08870679863702735, 0.0902274866136621, 0.09165471361349994, 0.09320687976634752, 0.09526594191140675, 0.09716225864027268, 0.09957877656985244, 0.10172318675969495, 0.10398555898101565, 0.10674703877981495, 0.1092513386337823, 0.11218335226350808, 0.11483611877332463, 0.11793736816485474, 0.1206464384228461, 0.12472334901833529, 0.1288917734869382, 0.1331069284439396]\n"
     ]
    }
   ],
   "execution_count": 283
  },
  {
   "metadata": {
    "ExecuteTime": {
     "end_time": "2025-01-07T16:00:18.057120Z",
     "start_time": "2025-01-07T16:00:18.054826Z"
    }
   },
   "cell_type": "code",
   "source": "#Hier Grafik und Herleitung für: Von Wetter und Wärmebedarf zu COP, von COP und Strompreis zu C  ",
   "id": "34b1d4528971d492",
   "outputs": [],
   "execution_count": 284
  },
  {
   "metadata": {
    "ExecuteTime": {
     "end_time": "2025-01-07T16:00:18.291030Z",
     "start_time": "2025-01-07T16:00:18.288616Z"
    }
   },
   "cell_type": "code",
   "source": "#Hier grafische Erklärung für die Nebenbedingungen",
   "id": "a94938c497f6ed8",
   "outputs": [],
   "execution_count": 285
  },
  {
   "metadata": {},
   "cell_type": "markdown",
   "source": [
    "DAS HIER FUNKTIONIERT NOCH NICHT und text muss noch angepasst werden und besser gelayoutet werden\n",
    "# Zielfunktion und Nebenbedingungen für das Optimierungsproblem\n",
    "\n",
    "## Zielfunktion\n",
    "Minimierung der Gesamtkosten:\n",
    "- \\( P_t \\): Wärmeerzeugung der Wärmepumpe in Stunde \\( t \\)\n",
    "- \\( c_t \\): Kosteneffizienz (EUR pro kW Wärme) in Stunde \\( t \\)\n",
    "- Ziel: Minimierung der Gesamtkosten über alle Stunden\n",
    "\n",
    "\\[\n",
    "\\min \\sum_{t=0}^{23} c_t \\cdot P_t\n",
    "\\]\n",
    "\n",
    "---\n",
    "\n",
    "## Nebenbedingungen\n",
    "\n",
    "1. **Grenzen der Wärmeerzeugung**\n",
    "   - Die Wärmeerzeugung \\( P_t \\) ist durch die maximale Leistung der Wärmepumpe beschränkt:\n",
    "   \\[\n",
    "   0 \\leq P_t \\leq P_{\\text{max}}\n",
    "   \\]\n",
    "\n",
    "2. **Grenzen für das Laden und Entladen des Speichers**\n",
    "   - Einspeicherung (\\( x^{\\text{in}}_t \\)) und Ausspeicherung (\\( x^{\\text{out}}_t \\)) des Speichers sind beschränkt:\n",
    "   \\[\n",
    "   0 \\leq x^{\\text{in}}_t \\leq X_{\\text{in,max}}, \\quad 0 \\leq x^{\\text{out}}_t \\leq X_{\\text{out,max}}\n",
    "   \\]\n",
    "\n",
    "3. **Grenzen für den Speicherfüllstand**\n",
    "   - Der Speicherfüllstand (\\( B_t \\)) ist durch die Speicherkapazität begrenzt:\n",
    "   \\[\n",
    "   0 \\leq B_t \\leq B_{\\text{max}}\n",
    "   \\]\n",
    "\n",
    "4. **Wärmebilanz**\n",
    "   - Die Wärmenachfrage \\( d \\) muss durch die Wärmeerzeugung \\( P_t \\), Einspeicherung (\\( x^{\\text{in}}_t \\)), und Ausspeicherung (\\( x^{\\text{out}}_t \\)) gedeckt werden:\n",
    "   \\[\n",
    "   P_t + x^{\\text{out}}_t = d + x^{\\text{in}}_t, \\quad \\forall t \\in \\{0, \\dots, 23\\}\n",
    "   \\]\n",
    "\n",
    "5. **Dynamik des Speicherfüllstands**\n",
    "   - Der Speicherfüllstand \\( B_t \\) entwickelt sich über die Zeit durch Einspeicherung (\\( x^{\\text{in}}_t \\)) und Ausspeicherung (\\( x^{\\text{out}}_t \\)):\n",
    "   \\[\n",
    "   B_0 = B_{\\text{start}} + x^{\\text{in}}_0 - x^{\\text{out}}_0\n",
    "   \\]\n",
    "   \\[\n",
    "   B_t = B_{t-1} + x^{\\text{in}}_t - x^{\\text{out}}_t, \\quad \\forall t \\in \\{1, \\dots, 23\\}\n",
    "   \\]\n",
    "\n",
    "---\n",
    "\n",
    "## Notation\n",
    "- \\( P_t \\): Wärmeerzeugung (kW)\n",
    "- \\( x^{\\text{in}}_t \\): Einspeicherung (kW)\n",
    "- \\( x^{\\text{out}}_t \\): Ausspeicherung (kW)\n",
    "- \\( B_t \\): Speicherfüllstand (kWh)\n",
    "- \\( c_t \\): Kosteneffizienz (EUR/kW)\n",
    "- \\( d \\): Wärmenachfrage (kW)\n",
    "- \\( P_{\\text{max}} \\): Maximale Wärmeerzeugungskapazität (kW)\n",
    "- \\( X_{\\text{in,max}}, X_{\\text{out,max}} \\): Maximale Lade- und Entladeleistung (kW)\n",
    "- \\( B_{\\text{max}} \\): Maximale Speicherkapazität (kWh)\n",
    "- \\( B_{\\text{start}} \\): Anfangsfüllstand des Speichers (kWh)\n"
   ],
   "id": "eca23595f02e9fe6"
  },
  {
   "metadata": {
    "ExecuteTime": {
     "end_time": "2025-01-07T16:00:18.639582Z",
     "start_time": "2025-01-07T16:00:18.637900Z"
    }
   },
   "cell_type": "code",
   "source": [
    "#initialize model and its direction (memory space to assign objective function and constraints)\n",
    "model = p.LpProblem(\"problem\", p.LpMinimize)"
   ],
   "id": "378cd6e04e8ebb2c",
   "outputs": [],
   "execution_count": 286
  },
  {
   "metadata": {
    "ExecuteTime": {
     "end_time": "2025-01-07T16:00:18.829429Z",
     "start_time": "2025-01-07T16:00:18.825009Z"
    }
   },
   "cell_type": "code",
   "source": [
    "#decision variables & their bounds / constraints\n",
    "\n",
    "#creates heat pump variable & adds constraints to it\n",
    "P = [p.LpVariable(f\"p_{t}\", lowBound=0, upBound=p_max) for t in range(T)]\n",
    "#creates thermal storage variable & adds constraints to it\n",
    "B = [p.LpVariable(f\"B_{t}\", lowBound=0, upBound=s_max) for t in range(T)]\n",
    "#creates charge variable & adds constraints to it\n",
    "x_in = [p.LpVariable(f\"x_in_{t}\", lowBound=0, upBound=s_laden) for t in range(T)]\n",
    "#creates discharge variable & adds constraints to it\n",
    "x_out = [p.LpVariable(f\"x_out_{t}\", lowBound=0, upBound=s_entladen) for t in range(T)]"
   ],
   "id": "996ff2eb2fb33ed8",
   "outputs": [],
   "execution_count": 287
  },
  {
   "metadata": {
    "ExecuteTime": {
     "end_time": "2025-01-07T16:00:19.008670Z",
     "start_time": "2025-01-07T16:00:19.005732Z"
    }
   },
   "cell_type": "code",
   "source": [
    "#objective function\n",
    "model += p.lpSum(c[t] * P[t] for t in range(T))"
   ],
   "id": "4d8cbce2897863de",
   "outputs": [],
   "execution_count": 288
  },
  {
   "metadata": {
    "ExecuteTime": {
     "end_time": "2025-01-07T16:00:19.249434Z",
     "start_time": "2025-01-07T16:00:19.243242Z"
    }
   },
   "cell_type": "code",
   "source": [
    "#constraints\n",
    "\n",
    "#cover heat demand\n",
    "for t in range(T):\n",
    "    model += d == P[t] + x_out[t] - x_in[t]\n",
    "#start level of thermal storage\n",
    "model += B[0] == b_start + x_in[0] - x_out[0] \n",
    "#dynamics of thermal storage\n",
    "for t in range(1, T):\n",
    "    model += B[t] == B[t-1] + x_in[t] - x_out[t] \n",
    "#noch n ergänzen, also Wärmeverlustquote (nicht nur hier, natürlich auch bei start level)"
   ],
   "id": "bf0c76d5af565a8f",
   "outputs": [],
   "execution_count": 289
  },
  {
   "metadata": {
    "ExecuteTime": {
     "end_time": "2025-01-07T16:00:19.586177Z",
     "start_time": "2025-01-07T16:00:19.524389Z"
    }
   },
   "cell_type": "code",
   "source": [
    "status = model.solve() \n",
    "print(p.LpStatus[status])\n"
   ],
   "id": "5b0fc16712b13ce5",
   "outputs": [
    {
     "name": "stdout",
     "output_type": "stream",
     "text": [
      "Welcome to the CBC MILP Solver \n",
      "Version: 2.10.3 \n",
      "Build Date: Dec 15 2019 \n",
      "\n",
      "command line - /Users/juliandomnik/PycharmProjects/heatpump-operation-optimization/.venv/lib/python3.12/site-packages/pulp/solverdir/cbc/osx/64/cbc /var/folders/m4/qcxwdmxd5b94sx7ctbs447dc0000gn/T/e36a6c1e47e34b17ad2e4df91acdd771-pulp.mps -timeMode elapsed -branch -printingOptions all -solution /var/folders/m4/qcxwdmxd5b94sx7ctbs447dc0000gn/T/e36a6c1e47e34b17ad2e4df91acdd771-pulp.sol (default strategy 1)\n",
      "At line 2 NAME          MODEL\n",
      "At line 3 ROWS\n",
      "At line 197 COLUMNS\n",
      "At line 965 RHS\n",
      "At line 1158 BOUNDS\n",
      "At line 1543 ENDATA\n",
      "Problem MODEL has 192 rows, 384 columns and 671 elements\n",
      "Coin0008I MODEL read with 0 errors\n",
      "Option for timeMode changed from cpu to elapsed\n",
      "Presolve 192 (0) rows, 383 (-1) columns and 670 (-1) elements\n",
      "0  Obj 0 Primal inf 59.999904 (96)\n",
      "78  Obj 0 Primal inf 59.999904 (96)\n",
      "156  Obj 3.6743787 Primal inf 666.5249 (96)\n",
      "234  Obj 6.0430514 Primal inf 1.4749908 (9)\n",
      "244  Obj 6.0897391\n",
      "Optimal - objective value 6.0897391\n",
      "After Postsolve, objective 6.0897391, infeasibilities - dual 0 (0), primal 0 (0)\n",
      "Optimal objective 6.089739088 - 244 iterations time 0.002, Presolve 0.00\n",
      "Option for printingOptions changed from normal to all\n",
      "Total time (CPU seconds):       0.00   (Wallclock seconds):       0.02\n",
      "\n",
      "Optimal\n"
     ]
    }
   ],
   "execution_count": 290
  },
  {
   "metadata": {
    "ExecuteTime": {
     "end_time": "2025-01-07T16:00:20.196388Z",
     "start_time": "2025-01-07T16:00:20.192840Z"
    }
   },
   "cell_type": "code",
   "source": [
    "#optimal values\n",
    "\n",
    "print(\"Optimale Ergebnisse:\")\n",
    "for t in range(T):\n",
    "    print(\n",
    "        f\"Stunde {t}: \"\n",
    "        f\"P[t] = {P[t].varValue:.3f}, \"\n",
    "        f\"x_in[t] = {x_in[t].varValue:.3f}, \"\n",
    "        f\"x_out[t] = {x_out[t].varValue:.3f}, \"\n",
    "        f\"B[t] = {B[t].varValue:.3f}\"\n",
    "    )\n"
   ],
   "id": "751b1b4b03546012",
   "outputs": [
    {
     "name": "stdout",
     "output_type": "stream",
     "text": [
      "Optimale Ergebnisse:\n",
      "Stunde 0: P[t] = 4.625, x_in[t] = 4.000, x_out[t] = 0.000, B[t] = 4.000\n",
      "Stunde 1: P[t] = 4.625, x_in[t] = 4.000, x_out[t] = 0.000, B[t] = 8.000\n",
      "Stunde 2: P[t] = 4.625, x_in[t] = 4.000, x_out[t] = 0.000, B[t] = 12.000\n",
      "Stunde 3: P[t] = 4.625, x_in[t] = 4.000, x_out[t] = 0.000, B[t] = 16.000\n",
      "Stunde 4: P[t] = 0.000, x_in[t] = 0.000, x_out[t] = 0.625, B[t] = 15.375\n",
      "Stunde 5: P[t] = 0.000, x_in[t] = 0.000, x_out[t] = 0.625, B[t] = 14.750\n",
      "Stunde 6: P[t] = 0.000, x_in[t] = 0.000, x_out[t] = 0.625, B[t] = 14.125\n",
      "Stunde 7: P[t] = 0.000, x_in[t] = 0.000, x_out[t] = 0.625, B[t] = 13.500\n",
      "Stunde 8: P[t] = 0.000, x_in[t] = 0.000, x_out[t] = 0.625, B[t] = 12.875\n",
      "Stunde 9: P[t] = 0.000, x_in[t] = 0.000, x_out[t] = 0.625, B[t] = 12.250\n",
      "Stunde 10: P[t] = 0.000, x_in[t] = 0.000, x_out[t] = 0.625, B[t] = 11.625\n",
      "Stunde 11: P[t] = 0.000, x_in[t] = 0.000, x_out[t] = 0.625, B[t] = 11.000\n",
      "Stunde 12: P[t] = 0.000, x_in[t] = 0.000, x_out[t] = 0.625, B[t] = 10.375\n",
      "Stunde 13: P[t] = 0.000, x_in[t] = 0.000, x_out[t] = 0.625, B[t] = 9.750\n",
      "Stunde 14: P[t] = 0.000, x_in[t] = 0.000, x_out[t] = 0.625, B[t] = 9.125\n",
      "Stunde 15: P[t] = 0.000, x_in[t] = 0.000, x_out[t] = 0.625, B[t] = 8.500\n",
      "Stunde 16: P[t] = 0.000, x_in[t] = 0.000, x_out[t] = 0.625, B[t] = 7.875\n",
      "Stunde 17: P[t] = 0.000, x_in[t] = 0.000, x_out[t] = 0.625, B[t] = 7.250\n",
      "Stunde 18: P[t] = 0.000, x_in[t] = 0.000, x_out[t] = 0.625, B[t] = 6.625\n",
      "Stunde 19: P[t] = 0.000, x_in[t] = 0.000, x_out[t] = 0.625, B[t] = 6.000\n",
      "Stunde 20: P[t] = 0.000, x_in[t] = 0.000, x_out[t] = 0.625, B[t] = 5.375\n",
      "Stunde 21: P[t] = 0.000, x_in[t] = 0.000, x_out[t] = 0.625, B[t] = 4.750\n",
      "Stunde 22: P[t] = 0.000, x_in[t] = 0.000, x_out[t] = 0.625, B[t] = 4.125\n",
      "Stunde 23: P[t] = 0.000, x_in[t] = 0.000, x_out[t] = 0.625, B[t] = 3.500\n",
      "Stunde 24: P[t] = 0.000, x_in[t] = 0.000, x_out[t] = 0.625, B[t] = 2.875\n",
      "Stunde 25: P[t] = 0.000, x_in[t] = 0.000, x_out[t] = 0.625, B[t] = 2.250\n",
      "Stunde 26: P[t] = 0.000, x_in[t] = 0.000, x_out[t] = 0.625, B[t] = 1.625\n",
      "Stunde 27: P[t] = 0.000, x_in[t] = 0.000, x_out[t] = 0.625, B[t] = 1.000\n",
      "Stunde 28: P[t] = 0.000, x_in[t] = 0.000, x_out[t] = 0.625, B[t] = 0.375\n",
      "Stunde 29: P[t] = 0.250, x_in[t] = 0.000, x_out[t] = 0.375, B[t] = 0.000\n",
      "Stunde 30: P[t] = 0.625, x_in[t] = 0.000, x_out[t] = 0.000, B[t] = 0.000\n",
      "Stunde 31: P[t] = 0.625, x_in[t] = 0.000, x_out[t] = 0.000, B[t] = 0.000\n",
      "Stunde 32: P[t] = 0.625, x_in[t] = 0.000, x_out[t] = 0.000, B[t] = 0.000\n",
      "Stunde 33: P[t] = 0.625, x_in[t] = 0.000, x_out[t] = 0.000, B[t] = 0.000\n",
      "Stunde 34: P[t] = 0.625, x_in[t] = 0.000, x_out[t] = 0.000, B[t] = 0.000\n",
      "Stunde 35: P[t] = 0.625, x_in[t] = 0.000, x_out[t] = 0.000, B[t] = 0.000\n",
      "Stunde 36: P[t] = 0.625, x_in[t] = 0.000, x_out[t] = 0.000, B[t] = 0.000\n",
      "Stunde 37: P[t] = 0.625, x_in[t] = 0.000, x_out[t] = 0.000, B[t] = 0.000\n",
      "Stunde 38: P[t] = 0.625, x_in[t] = 0.000, x_out[t] = 0.000, B[t] = 0.000\n",
      "Stunde 39: P[t] = 0.625, x_in[t] = 0.000, x_out[t] = 0.000, B[t] = 0.000\n",
      "Stunde 40: P[t] = 0.625, x_in[t] = 0.000, x_out[t] = 0.000, B[t] = 0.000\n",
      "Stunde 41: P[t] = 0.625, x_in[t] = 0.000, x_out[t] = 0.000, B[t] = 0.000\n",
      "Stunde 42: P[t] = 0.625, x_in[t] = 0.000, x_out[t] = 0.000, B[t] = 0.000\n",
      "Stunde 43: P[t] = 0.625, x_in[t] = 0.000, x_out[t] = 0.000, B[t] = 0.000\n",
      "Stunde 44: P[t] = 0.625, x_in[t] = 0.000, x_out[t] = 0.000, B[t] = 0.000\n",
      "Stunde 45: P[t] = 0.625, x_in[t] = 0.000, x_out[t] = 0.000, B[t] = 0.000\n",
      "Stunde 46: P[t] = 0.625, x_in[t] = 0.000, x_out[t] = 0.000, B[t] = 0.000\n",
      "Stunde 47: P[t] = 0.625, x_in[t] = 0.000, x_out[t] = 0.000, B[t] = 0.000\n",
      "Stunde 48: P[t] = 0.625, x_in[t] = 0.000, x_out[t] = 0.000, B[t] = 0.000\n",
      "Stunde 49: P[t] = 0.625, x_in[t] = 0.000, x_out[t] = 0.000, B[t] = 0.000\n",
      "Stunde 50: P[t] = 0.625, x_in[t] = 0.000, x_out[t] = 0.000, B[t] = 0.000\n",
      "Stunde 51: P[t] = 0.625, x_in[t] = 0.000, x_out[t] = 0.000, B[t] = 0.000\n",
      "Stunde 52: P[t] = 0.625, x_in[t] = 0.000, x_out[t] = 0.000, B[t] = 0.000\n",
      "Stunde 53: P[t] = 0.625, x_in[t] = 0.000, x_out[t] = 0.000, B[t] = 0.000\n",
      "Stunde 54: P[t] = 0.625, x_in[t] = 0.000, x_out[t] = 0.000, B[t] = 0.000\n",
      "Stunde 55: P[t] = 0.625, x_in[t] = 0.000, x_out[t] = 0.000, B[t] = 0.000\n",
      "Stunde 56: P[t] = 0.625, x_in[t] = 0.000, x_out[t] = 0.000, B[t] = 0.000\n",
      "Stunde 57: P[t] = 0.625, x_in[t] = 0.000, x_out[t] = 0.000, B[t] = 0.000\n",
      "Stunde 58: P[t] = 0.625, x_in[t] = 0.000, x_out[t] = 0.000, B[t] = 0.000\n",
      "Stunde 59: P[t] = 0.625, x_in[t] = 0.000, x_out[t] = 0.000, B[t] = 0.000\n",
      "Stunde 60: P[t] = 0.625, x_in[t] = 0.000, x_out[t] = 0.000, B[t] = 0.000\n",
      "Stunde 61: P[t] = 0.625, x_in[t] = 0.000, x_out[t] = 0.000, B[t] = 0.000\n",
      "Stunde 62: P[t] = 0.625, x_in[t] = 0.000, x_out[t] = 0.000, B[t] = 0.000\n",
      "Stunde 63: P[t] = 0.625, x_in[t] = 0.000, x_out[t] = 0.000, B[t] = 0.000\n",
      "Stunde 64: P[t] = 1.500, x_in[t] = 0.875, x_out[t] = 0.000, B[t] = 0.875\n",
      "Stunde 65: P[t] = 4.625, x_in[t] = 4.000, x_out[t] = 0.000, B[t] = 4.875\n",
      "Stunde 66: P[t] = 4.625, x_in[t] = 4.000, x_out[t] = 0.000, B[t] = 8.875\n",
      "Stunde 67: P[t] = 4.625, x_in[t] = 4.000, x_out[t] = 0.000, B[t] = 12.875\n",
      "Stunde 68: P[t] = 4.625, x_in[t] = 4.000, x_out[t] = 0.000, B[t] = 16.875\n",
      "Stunde 69: P[t] = 0.000, x_in[t] = 0.000, x_out[t] = 0.625, B[t] = 16.250\n",
      "Stunde 70: P[t] = 0.000, x_in[t] = 0.000, x_out[t] = 0.625, B[t] = 15.625\n",
      "Stunde 71: P[t] = 0.000, x_in[t] = 0.000, x_out[t] = 0.625, B[t] = 15.000\n",
      "Stunde 72: P[t] = 0.000, x_in[t] = 0.000, x_out[t] = 0.625, B[t] = 14.375\n",
      "Stunde 73: P[t] = 0.000, x_in[t] = 0.000, x_out[t] = 0.625, B[t] = 13.750\n",
      "Stunde 74: P[t] = 0.000, x_in[t] = 0.000, x_out[t] = 0.625, B[t] = 13.125\n",
      "Stunde 75: P[t] = 0.000, x_in[t] = 0.000, x_out[t] = 0.625, B[t] = 12.500\n",
      "Stunde 76: P[t] = 0.000, x_in[t] = 0.000, x_out[t] = 0.625, B[t] = 11.875\n",
      "Stunde 77: P[t] = 0.000, x_in[t] = 0.000, x_out[t] = 0.625, B[t] = 11.250\n",
      "Stunde 78: P[t] = 0.000, x_in[t] = 0.000, x_out[t] = 0.625, B[t] = 10.625\n",
      "Stunde 79: P[t] = 0.000, x_in[t] = 0.000, x_out[t] = 0.625, B[t] = 10.000\n",
      "Stunde 80: P[t] = 0.000, x_in[t] = 0.000, x_out[t] = 0.625, B[t] = 9.375\n",
      "Stunde 81: P[t] = 0.000, x_in[t] = 0.000, x_out[t] = 0.625, B[t] = 8.750\n",
      "Stunde 82: P[t] = 0.000, x_in[t] = 0.000, x_out[t] = 0.625, B[t] = 8.125\n",
      "Stunde 83: P[t] = 0.000, x_in[t] = 0.000, x_out[t] = 0.625, B[t] = 7.500\n",
      "Stunde 84: P[t] = 0.000, x_in[t] = 0.000, x_out[t] = 0.625, B[t] = 6.875\n",
      "Stunde 85: P[t] = 0.000, x_in[t] = 0.000, x_out[t] = 0.625, B[t] = 6.250\n",
      "Stunde 86: P[t] = 0.000, x_in[t] = 0.000, x_out[t] = 0.625, B[t] = 5.625\n",
      "Stunde 87: P[t] = 0.000, x_in[t] = 0.000, x_out[t] = 0.625, B[t] = 5.000\n",
      "Stunde 88: P[t] = 0.000, x_in[t] = 0.000, x_out[t] = 0.625, B[t] = 4.375\n",
      "Stunde 89: P[t] = 0.000, x_in[t] = 0.000, x_out[t] = 0.625, B[t] = 3.750\n",
      "Stunde 90: P[t] = 0.000, x_in[t] = 0.000, x_out[t] = 0.625, B[t] = 3.125\n",
      "Stunde 91: P[t] = 0.000, x_in[t] = 0.000, x_out[t] = 0.625, B[t] = 2.500\n",
      "Stunde 92: P[t] = 0.000, x_in[t] = 0.000, x_out[t] = 0.625, B[t] = 1.875\n",
      "Stunde 93: P[t] = 0.000, x_in[t] = 0.000, x_out[t] = 0.625, B[t] = 1.250\n",
      "Stunde 94: P[t] = 0.000, x_in[t] = 0.000, x_out[t] = 0.625, B[t] = 0.625\n",
      "Stunde 95: P[t] = 0.000, x_in[t] = 0.000, x_out[t] = 0.625, B[t] = 0.000\n"
     ]
    }
   ],
   "execution_count": 291
  },
  {
   "metadata": {
    "ExecuteTime": {
     "end_time": "2025-01-07T16:00:22.362116Z",
     "start_time": "2025-01-07T16:00:22.359003Z"
    }
   },
   "cell_type": "code",
   "source": "#Hier Grafik für optimalen Betrieb (plt)",
   "id": "9aaaf3be2de137a9",
   "outputs": [],
   "execution_count": 292
  },
  {
   "metadata": {
    "ExecuteTime": {
     "end_time": "2025-01-07T16:00:22.892400Z",
     "start_time": "2025-01-07T16:00:22.889487Z"
    }
   },
   "cell_type": "code",
   "source": [
    "#Mini-Exkurs Lineare Algebra / Veranschaulichung des Problems \n",
    "print(\"Modelldimensionen: \" + str(len(model.constraints)) + \" x \"+ str(len(model.variables())))\n",
    "print(\"------------------\")\n",
    "print(\"Anzahl der Constraints (m):\", len(model.constraints))\n",
    "print(\"Anzahl der Variablen (n):\", len(model.variables()))\n"
   ],
   "id": "19f5031495fb1248",
   "outputs": [
    {
     "name": "stdout",
     "output_type": "stream",
     "text": [
      "Modelldimensionen: 192 x 384\n",
      "------------------\n",
      "Anzahl der Constraints (m): 192\n",
      "Anzahl der Variablen (n): 384\n"
     ]
    }
   ],
   "execution_count": 293
  },
  {
   "metadata": {},
   "cell_type": "markdown",
   "source": "",
   "id": "9c09ba081812ddf7"
  },
  {
   "metadata": {},
   "cell_type": "markdown",
   "source": [
    "# Matrixdarstellung\n",
    "\n",
    "In der linearen Programmierung gilt folgendes: für jeden Constraint (Gleichung) gibt es eine Zeile in der Matrix \\( A \\), und für jede Variable gibt es eine Spalte. Die Werte in der Matrix \\( A \\) geben die Koeffizienten der Variablen in den Constraints an.\n",
    "\n",
    "Die Matrix \\( A \\) mit Dimension \\( 96 \\times 96 \\):\n",
    "\n",
    "\\[\n",
    "A =\n",
    "\\begin{bmatrix}\n",
    "a_{1,1} & a_{1,2} & a_{1,3} & \\cdots & a_{1,M} \\\\\n",
    "a_{2,1} & a_{2,2} & a_{2,3} & \\cdots & a_{2,M} \\\\\n",
    "a_{3,1} & a_{3,2} & a_{3,3} & \\cdots & a_{3,M} \\\\\n",
    "\\vdots & \\vdots & \\vdots & \\ddots & \\vdots \\\\\n",
    "a_{N,1} & a_{N,2} & a_{N,3} & \\cdots & a_{N,M} \\\\\n",
    "\\end{bmatrix}\n",
    "\\]\n",
    "\n"
   ],
   "id": "f3bf9478822ed388"
  },
  {
   "metadata": {
    "ExecuteTime": {
     "end_time": "2025-01-07T16:00:38.334142Z",
     "start_time": "2025-01-07T16:00:38.330054Z"
    }
   },
   "cell_type": "code",
   "source": [
    "#Amortisationsdauer der Wärmepumpe alleine\n",
    "tag_kosten_pumpe_only = sum(d * preis for preis in strompreise)/4\n",
    "\n",
    "tägliche_ersparnisse = jahresrechnung_heizkosten_vor_pumpe/365 - tag_kosten_pumpe_only\n",
    "\n",
    "print(\"Average cost for heating before: \", jahresrechnung_heizkosten_vor_pumpe/365)\n",
    "print(\"Cost with WP: \",tag_kosten_pumpe_only)\n",
    "print(\"Ersparnisse pro Tag: \", tägliche_ersparnisse)\n",
    "print(\"Average savings in %: \", tägliche_ersparnisse/(jahresrechnung_heizkosten_vor_pumpe/365)*100)\n",
    "print(\"Amortisationsdauer in Jahren: \", anschaffunskosten_pumpe/tägliche_ersparnisse/365)"
   ],
   "id": "af842d737306b923",
   "outputs": [
    {
     "name": "stdout",
     "output_type": "stream",
     "text": [
      "Average cost for heating before:  6.493150684931507\n",
      "Cost with WP:  4.363609375\n",
      "Ersparnisse pro Tag:  2.129541309931507\n",
      "Average savings in %:  32.796733254219404\n",
      "Amortisationsdauer in Jahren:  10.034960540110847\n"
     ]
    }
   ],
   "execution_count": 297
  },
  {
   "metadata": {
    "ExecuteTime": {
     "end_time": "2025-01-07T16:00:30.193845Z",
     "start_time": "2025-01-07T16:00:30.188765Z"
    }
   },
   "cell_type": "code",
   "source": [
    "#Amortisationsdauer des Wärmespeichers\n",
    "\n",
    "# Optimalen Wert der Zielfunktion in einer Variablen speichern\n",
    "optimal_value = value(model.objective)/4\n",
    "\n",
    "\n",
    "print(\"Daily cost with pufferspeicher\", optimal_value)\n",
    "print(\"Daily cost without pufferspeicher\", tag_kosten_pumpe_only)\n",
    "\n",
    "ersparnisse = tag_kosten_pumpe_only - optimal_value\n",
    "tage_bis_gelohnt = anschaffungskosten_speicher/ersparnisse\n",
    "\n",
    "print(\"Gespart pro Tag in Euro: \", ersparnisse)\n",
    "print(\"Amortisationsdauer basierend auf den letzten 24h in Jahren: \", tage_bis_gelohnt/365)"
   ],
   "id": "d03bd7da05578ecf",
   "outputs": [
    {
     "name": "stdout",
     "output_type": "stream",
     "text": [
      "Daily cost with pufferspeicher 1.5224347720266103\n",
      "Daily cost without pufferspeicher 4.363609375\n",
      "Gespart pro Tag in Euro:  2.84117460297339\n",
      "Amortisationsdauert basierend auf den letzten 24h in Tagen:  2111.8026304053215\n",
      "Amortisationsdauer basierend auf den letzten 24h in Jahren:  5.785760631247456\n"
     ]
    }
   ],
   "execution_count": 295
  },
  {
   "metadata": {},
   "cell_type": "code",
   "outputs": [],
   "execution_count": null,
   "source": "#reale Schätzungen für Amortisationsdauer",
   "id": "ae266c50a1526c1e"
  }
 ],
 "metadata": {
  "kernelspec": {
   "display_name": "Python 3",
   "language": "python",
   "name": "python3"
  },
  "language_info": {
   "codemirror_mode": {
    "name": "ipython",
    "version": 2
   },
   "file_extension": ".py",
   "mimetype": "text/x-python",
   "name": "python",
   "nbconvert_exporter": "python",
   "pygments_lexer": "ipython2",
   "version": "2.7.6"
  }
 },
 "nbformat": 4,
 "nbformat_minor": 5
}
